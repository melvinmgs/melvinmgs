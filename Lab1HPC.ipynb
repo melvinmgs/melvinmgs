{
  "nbformat": 4,
  "nbformat_minor": 0,
  "metadata": {
    "colab": {
      "provenance": [],
      "gpuType": "T4",
      "authorship_tag": "ABX9TyNAwhjljZbUyOaPjIfM7Xu/",
      "include_colab_link": true
    },
    "kernelspec": {
      "name": "python3",
      "display_name": "Python 3"
    },
    "language_info": {
      "name": "python"
    },
    "accelerator": "GPU"
  },
  "cells": [
    {
      "cell_type": "markdown",
      "metadata": {
        "id": "view-in-github",
        "colab_type": "text"
      },
      "source": [
        "<a href=\"https://colab.research.google.com/github/melvinmgs/melvinmgs/blob/main/Lab1HPC.ipynb\" target=\"_parent\"><img src=\"https://colab.research.google.com/assets/colab-badge.svg\" alt=\"Open In Colab\"/></a>"
      ]
    },
    {
      "cell_type": "code",
      "execution_count": null,
      "metadata": {
        "colab": {
          "base_uri": "https://localhost:8080/"
        },
        "id": "P9XopQOx11tk",
        "outputId": "669bc401-44a3-4f70-bdf0-8c964f103c54"
      },
      "outputs": [
        {
          "output_type": "stream",
          "name": "stdout",
          "text": [
            "Melvin\n",
            "40\n"
          ]
        }
      ],
      "source": [
        "print(\"Melvin\")\n",
        "a=30\n",
        "b=10\n",
        "c=a+b\n",
        "print(c)\n"
      ]
    }
  ]
}